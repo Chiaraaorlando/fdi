{
  "nbformat": 4,
  "nbformat_minor": 0,
  "metadata": {
    "colab": {
      "provenance": []
    },
    "kernelspec": {
      "name": "python3",
      "display_name": "Python 3"
    },
    "language_info": {
      "name": "python"
    }
  },
  "cells": [
    {
      "cell_type": "markdown",
      "source": [
        "Importo la librería de pandas y leo el archivo csv subido como módulo"
      ],
      "metadata": {
        "id": "C5bZjIXhMWn9"
      }
    },
    {
      "cell_type": "code",
      "source": [
        "import pandas as pd\n",
        "\n",
        "df = pd.read_csv('cuadros.csv')\n"
      ],
      "metadata": {
        "id": "ffLH_1d3EYNc"
      },
      "execution_count": 6,
      "outputs": []
    },
    {
      "cell_type": "markdown",
      "source": [
        "Calculo valores importantes"
      ],
      "metadata": {
        "id": "SMzUQkMpMfku"
      }
    },
    {
      "cell_type": "code",
      "source": [
        "media = df['price'].mean()\n",
        "print('Media:', media)\n",
        "mediana = df['price'].median()\n",
        "print('Mediana:', mediana)\n",
        "moda = df['price'].mode()\n",
        "print('Moda:', moda)\n",
        "desviacion_estandar = df['price'].std()\n",
        "print('Desviación estándar:', desviacion_estandar)"
      ],
      "metadata": {
        "colab": {
          "base_uri": "https://localhost:8080/"
        },
        "id": "M2HFuuJwFonE",
        "outputId": "3ee8cfac-941b-4c95-eeee-f02063c52dd8"
      },
      "execution_count": 7,
      "outputs": [
        {
          "output_type": "stream",
          "name": "stdout",
          "text": [
            "Media: 1603128.5714285714\n",
            "Mediana: 997000.0\n",
            "Moda: 0      50000.0\n",
            "1      90000.0\n",
            "2     784000.0\n",
            "3     997000.0\n",
            "4    1000000.0\n",
            "5    2300900.0\n",
            "6    6000000.0\n",
            "Name: price, dtype: float64\n",
            "Desviación estándar: 2078591.5621836227\n"
          ]
        }
      ]
    },
    {
      "cell_type": "markdown",
      "source": [
        "Observo mi base de datos"
      ],
      "metadata": {
        "id": "Bebx80QsMton"
      }
    },
    {
      "cell_type": "code",
      "source": [
        "df"
      ],
      "metadata": {
        "colab": {
          "base_uri": "https://localhost:8080/",
          "height": 269
        },
        "id": "h52mjSYxFtq7",
        "outputId": "6016d4aa-45f3-47d1-a013-316162669a60"
      },
      "execution_count": 15,
      "outputs": [
        {
          "output_type": "execute_result",
          "data": {
            "text/plain": [
              "      id                                              title  \\\n",
              "0  12345                               Woman with a parasol   \n",
              "1  12346                                  Numeri Innamorati   \n",
              "2  12347                               The rucellai Madonna   \n",
              "3  12349                                  Free South Africa   \n",
              "4  12350             Juanito laguna lleva comida a su padre   \n",
              "5  12351                         Nina con mascara de muerte   \n",
              "6  12352  The great red dragon and the woman clothed wit...   \n",
              "\n",
              "                author      price  creation            movement  \\\n",
              "0  Gustave Caillebotte    90000.0      1877       Impresionismo   \n",
              "1        Giacono Balla    50000.0      1923           Futurismo   \n",
              "2               Duccio   784000.0      1285         Arte gotico   \n",
              "3         Keith Haring  1000000.0      1985  Arte contemporaneo   \n",
              "4        Antonio Berni   997000.0      1961            Arte pop   \n",
              "5          Frida Kahlo  2300900.0      1938         Surrealista   \n",
              "6        William Blake  6000000.0      1805        Romanticismo   \n",
              "\n",
              "                                    material  \n",
              "0                              Oil on canvas  \n",
              "1                              Oil on canvas  \n",
              "2                           Tempera on papel  \n",
              "3                         Litograph on paper  \n",
              "4                                    Collage  \n",
              "5                           Oil on tin plate  \n",
              "6  Pen and gray ink watercolor over graphite  "
            ],
            "text/html": [
              "\n",
              "  <div id=\"df-695d0e7d-d8cf-4dc2-9f8b-47069875da4a\">\n",
              "    <div class=\"colab-df-container\">\n",
              "      <div>\n",
              "<style scoped>\n",
              "    .dataframe tbody tr th:only-of-type {\n",
              "        vertical-align: middle;\n",
              "    }\n",
              "\n",
              "    .dataframe tbody tr th {\n",
              "        vertical-align: top;\n",
              "    }\n",
              "\n",
              "    .dataframe thead th {\n",
              "        text-align: right;\n",
              "    }\n",
              "</style>\n",
              "<table border=\"1\" class=\"dataframe\">\n",
              "  <thead>\n",
              "    <tr style=\"text-align: right;\">\n",
              "      <th></th>\n",
              "      <th>id</th>\n",
              "      <th>title</th>\n",
              "      <th>author</th>\n",
              "      <th>price</th>\n",
              "      <th>creation</th>\n",
              "      <th>movement</th>\n",
              "      <th>material</th>\n",
              "    </tr>\n",
              "  </thead>\n",
              "  <tbody>\n",
              "    <tr>\n",
              "      <th>0</th>\n",
              "      <td>12345</td>\n",
              "      <td>Woman with a parasol</td>\n",
              "      <td>Gustave Caillebotte</td>\n",
              "      <td>90000.0</td>\n",
              "      <td>1877</td>\n",
              "      <td>Impresionismo</td>\n",
              "      <td>Oil on canvas</td>\n",
              "    </tr>\n",
              "    <tr>\n",
              "      <th>1</th>\n",
              "      <td>12346</td>\n",
              "      <td>Numeri Innamorati</td>\n",
              "      <td>Giacono Balla</td>\n",
              "      <td>50000.0</td>\n",
              "      <td>1923</td>\n",
              "      <td>Futurismo</td>\n",
              "      <td>Oil on canvas</td>\n",
              "    </tr>\n",
              "    <tr>\n",
              "      <th>2</th>\n",
              "      <td>12347</td>\n",
              "      <td>The rucellai Madonna</td>\n",
              "      <td>Duccio</td>\n",
              "      <td>784000.0</td>\n",
              "      <td>1285</td>\n",
              "      <td>Arte gotico</td>\n",
              "      <td>Tempera on papel</td>\n",
              "    </tr>\n",
              "    <tr>\n",
              "      <th>3</th>\n",
              "      <td>12349</td>\n",
              "      <td>Free South Africa</td>\n",
              "      <td>Keith Haring</td>\n",
              "      <td>1000000.0</td>\n",
              "      <td>1985</td>\n",
              "      <td>Arte contemporaneo</td>\n",
              "      <td>Litograph on paper</td>\n",
              "    </tr>\n",
              "    <tr>\n",
              "      <th>4</th>\n",
              "      <td>12350</td>\n",
              "      <td>Juanito laguna lleva comida a su padre</td>\n",
              "      <td>Antonio Berni</td>\n",
              "      <td>997000.0</td>\n",
              "      <td>1961</td>\n",
              "      <td>Arte pop</td>\n",
              "      <td>Collage</td>\n",
              "    </tr>\n",
              "    <tr>\n",
              "      <th>5</th>\n",
              "      <td>12351</td>\n",
              "      <td>Nina con mascara de muerte</td>\n",
              "      <td>Frida Kahlo</td>\n",
              "      <td>2300900.0</td>\n",
              "      <td>1938</td>\n",
              "      <td>Surrealista</td>\n",
              "      <td>Oil on tin plate</td>\n",
              "    </tr>\n",
              "    <tr>\n",
              "      <th>6</th>\n",
              "      <td>12352</td>\n",
              "      <td>The great red dragon and the woman clothed wit...</td>\n",
              "      <td>William Blake</td>\n",
              "      <td>6000000.0</td>\n",
              "      <td>1805</td>\n",
              "      <td>Romanticismo</td>\n",
              "      <td>Pen and gray ink watercolor over graphite</td>\n",
              "    </tr>\n",
              "  </tbody>\n",
              "</table>\n",
              "</div>\n",
              "      <button class=\"colab-df-convert\" onclick=\"convertToInteractive('df-695d0e7d-d8cf-4dc2-9f8b-47069875da4a')\"\n",
              "              title=\"Convert this dataframe to an interactive table.\"\n",
              "              style=\"display:none;\">\n",
              "        \n",
              "  <svg xmlns=\"http://www.w3.org/2000/svg\" height=\"24px\"viewBox=\"0 0 24 24\"\n",
              "       width=\"24px\">\n",
              "    <path d=\"M0 0h24v24H0V0z\" fill=\"none\"/>\n",
              "    <path d=\"M18.56 5.44l.94 2.06.94-2.06 2.06-.94-2.06-.94-.94-2.06-.94 2.06-2.06.94zm-11 1L8.5 8.5l.94-2.06 2.06-.94-2.06-.94L8.5 2.5l-.94 2.06-2.06.94zm10 10l.94 2.06.94-2.06 2.06-.94-2.06-.94-.94-2.06-.94 2.06-2.06.94z\"/><path d=\"M17.41 7.96l-1.37-1.37c-.4-.4-.92-.59-1.43-.59-.52 0-1.04.2-1.43.59L10.3 9.45l-7.72 7.72c-.78.78-.78 2.05 0 2.83L4 21.41c.39.39.9.59 1.41.59.51 0 1.02-.2 1.41-.59l7.78-7.78 2.81-2.81c.8-.78.8-2.07 0-2.86zM5.41 20L4 18.59l7.72-7.72 1.47 1.35L5.41 20z\"/>\n",
              "  </svg>\n",
              "      </button>\n",
              "      \n",
              "  <style>\n",
              "    .colab-df-container {\n",
              "      display:flex;\n",
              "      flex-wrap:wrap;\n",
              "      gap: 12px;\n",
              "    }\n",
              "\n",
              "    .colab-df-convert {\n",
              "      background-color: #E8F0FE;\n",
              "      border: none;\n",
              "      border-radius: 50%;\n",
              "      cursor: pointer;\n",
              "      display: none;\n",
              "      fill: #1967D2;\n",
              "      height: 32px;\n",
              "      padding: 0 0 0 0;\n",
              "      width: 32px;\n",
              "    }\n",
              "\n",
              "    .colab-df-convert:hover {\n",
              "      background-color: #E2EBFA;\n",
              "      box-shadow: 0px 1px 2px rgba(60, 64, 67, 0.3), 0px 1px 3px 1px rgba(60, 64, 67, 0.15);\n",
              "      fill: #174EA6;\n",
              "    }\n",
              "\n",
              "    [theme=dark] .colab-df-convert {\n",
              "      background-color: #3B4455;\n",
              "      fill: #D2E3FC;\n",
              "    }\n",
              "\n",
              "    [theme=dark] .colab-df-convert:hover {\n",
              "      background-color: #434B5C;\n",
              "      box-shadow: 0px 1px 3px 1px rgba(0, 0, 0, 0.15);\n",
              "      filter: drop-shadow(0px 1px 2px rgba(0, 0, 0, 0.3));\n",
              "      fill: #FFFFFF;\n",
              "    }\n",
              "  </style>\n",
              "\n",
              "      <script>\n",
              "        const buttonEl =\n",
              "          document.querySelector('#df-695d0e7d-d8cf-4dc2-9f8b-47069875da4a button.colab-df-convert');\n",
              "        buttonEl.style.display =\n",
              "          google.colab.kernel.accessAllowed ? 'block' : 'none';\n",
              "\n",
              "        async function convertToInteractive(key) {\n",
              "          const element = document.querySelector('#df-695d0e7d-d8cf-4dc2-9f8b-47069875da4a');\n",
              "          const dataTable =\n",
              "            await google.colab.kernel.invokeFunction('convertToInteractive',\n",
              "                                                     [key], {});\n",
              "          if (!dataTable) return;\n",
              "\n",
              "          const docLinkHtml = 'Like what you see? Visit the ' +\n",
              "            '<a target=\"_blank\" href=https://colab.research.google.com/notebooks/data_table.ipynb>data table notebook</a>'\n",
              "            + ' to learn more about interactive tables.';\n",
              "          element.innerHTML = '';\n",
              "          dataTable['output_type'] = 'display_data';\n",
              "          await google.colab.output.renderOutput(dataTable, element);\n",
              "          const docLink = document.createElement('div');\n",
              "          docLink.innerHTML = docLinkHtml;\n",
              "          element.appendChild(docLink);\n",
              "        }\n",
              "      </script>\n",
              "    </div>\n",
              "  </div>\n",
              "  "
            ]
          },
          "metadata": {},
          "execution_count": 15
        }
      ]
    },
    {
      "cell_type": "markdown",
      "source": [
        "Le pido a la base de datos cuales son mis columnas para saber que valores me conviene analizar"
      ],
      "metadata": {
        "id": "XbQC0K39Mxj4"
      }
    },
    {
      "cell_type": "code",
      "source": [
        "df.columns"
      ],
      "metadata": {
        "colab": {
          "base_uri": "https://localhost:8080/"
        },
        "id": "Sjx22b2rGVS_",
        "outputId": "81512368-4606-475e-8548-77f15d976449"
      },
      "execution_count": 16,
      "outputs": [
        {
          "output_type": "execute_result",
          "data": {
            "text/plain": [
              "Index(['id', 'title', 'author', 'price', 'creation', 'movement', 'material'], dtype='object')"
            ]
          },
          "metadata": {},
          "execution_count": 16
        }
      ]
    },
    {
      "cell_type": "markdown",
      "source": [
        "Observo las dos primeras lineas de la base de datos, me ayudan a saber que tipos de valores están en cada una de las columnas (si son números o textos)"
      ],
      "metadata": {
        "id": "DNo6v9LJNFbA"
      }
    },
    {
      "cell_type": "code",
      "source": [
        "df.head(2)"
      ],
      "metadata": {
        "colab": {
          "base_uri": "https://localhost:8080/",
          "height": 112
        },
        "id": "buNcxMIIGcr3",
        "outputId": "86f265a7-cc12-4a78-9475-7ed720b4d1f3"
      },
      "execution_count": 24,
      "outputs": [
        {
          "output_type": "execute_result",
          "data": {
            "text/plain": [
              "      id                 title               author    price  creation  \\\n",
              "0  12345  Woman with a parasol  Gustave Caillebotte  90000.0      1877   \n",
              "1  12346     Numeri Innamorati        Giacono Balla  50000.0      1923   \n",
              "\n",
              "        movement       material  \n",
              "0  Impresionismo  Oil on canvas  \n",
              "1      Futurismo  Oil on canvas  "
            ],
            "text/html": [
              "\n",
              "  <div id=\"df-d211193e-a683-4033-9eaf-5245194cd872\">\n",
              "    <div class=\"colab-df-container\">\n",
              "      <div>\n",
              "<style scoped>\n",
              "    .dataframe tbody tr th:only-of-type {\n",
              "        vertical-align: middle;\n",
              "    }\n",
              "\n",
              "    .dataframe tbody tr th {\n",
              "        vertical-align: top;\n",
              "    }\n",
              "\n",
              "    .dataframe thead th {\n",
              "        text-align: right;\n",
              "    }\n",
              "</style>\n",
              "<table border=\"1\" class=\"dataframe\">\n",
              "  <thead>\n",
              "    <tr style=\"text-align: right;\">\n",
              "      <th></th>\n",
              "      <th>id</th>\n",
              "      <th>title</th>\n",
              "      <th>author</th>\n",
              "      <th>price</th>\n",
              "      <th>creation</th>\n",
              "      <th>movement</th>\n",
              "      <th>material</th>\n",
              "    </tr>\n",
              "  </thead>\n",
              "  <tbody>\n",
              "    <tr>\n",
              "      <th>0</th>\n",
              "      <td>12345</td>\n",
              "      <td>Woman with a parasol</td>\n",
              "      <td>Gustave Caillebotte</td>\n",
              "      <td>90000.0</td>\n",
              "      <td>1877</td>\n",
              "      <td>Impresionismo</td>\n",
              "      <td>Oil on canvas</td>\n",
              "    </tr>\n",
              "    <tr>\n",
              "      <th>1</th>\n",
              "      <td>12346</td>\n",
              "      <td>Numeri Innamorati</td>\n",
              "      <td>Giacono Balla</td>\n",
              "      <td>50000.0</td>\n",
              "      <td>1923</td>\n",
              "      <td>Futurismo</td>\n",
              "      <td>Oil on canvas</td>\n",
              "    </tr>\n",
              "  </tbody>\n",
              "</table>\n",
              "</div>\n",
              "      <button class=\"colab-df-convert\" onclick=\"convertToInteractive('df-d211193e-a683-4033-9eaf-5245194cd872')\"\n",
              "              title=\"Convert this dataframe to an interactive table.\"\n",
              "              style=\"display:none;\">\n",
              "        \n",
              "  <svg xmlns=\"http://www.w3.org/2000/svg\" height=\"24px\"viewBox=\"0 0 24 24\"\n",
              "       width=\"24px\">\n",
              "    <path d=\"M0 0h24v24H0V0z\" fill=\"none\"/>\n",
              "    <path d=\"M18.56 5.44l.94 2.06.94-2.06 2.06-.94-2.06-.94-.94-2.06-.94 2.06-2.06.94zm-11 1L8.5 8.5l.94-2.06 2.06-.94-2.06-.94L8.5 2.5l-.94 2.06-2.06.94zm10 10l.94 2.06.94-2.06 2.06-.94-2.06-.94-.94-2.06-.94 2.06-2.06.94z\"/><path d=\"M17.41 7.96l-1.37-1.37c-.4-.4-.92-.59-1.43-.59-.52 0-1.04.2-1.43.59L10.3 9.45l-7.72 7.72c-.78.78-.78 2.05 0 2.83L4 21.41c.39.39.9.59 1.41.59.51 0 1.02-.2 1.41-.59l7.78-7.78 2.81-2.81c.8-.78.8-2.07 0-2.86zM5.41 20L4 18.59l7.72-7.72 1.47 1.35L5.41 20z\"/>\n",
              "  </svg>\n",
              "      </button>\n",
              "      \n",
              "  <style>\n",
              "    .colab-df-container {\n",
              "      display:flex;\n",
              "      flex-wrap:wrap;\n",
              "      gap: 12px;\n",
              "    }\n",
              "\n",
              "    .colab-df-convert {\n",
              "      background-color: #E8F0FE;\n",
              "      border: none;\n",
              "      border-radius: 50%;\n",
              "      cursor: pointer;\n",
              "      display: none;\n",
              "      fill: #1967D2;\n",
              "      height: 32px;\n",
              "      padding: 0 0 0 0;\n",
              "      width: 32px;\n",
              "    }\n",
              "\n",
              "    .colab-df-convert:hover {\n",
              "      background-color: #E2EBFA;\n",
              "      box-shadow: 0px 1px 2px rgba(60, 64, 67, 0.3), 0px 1px 3px 1px rgba(60, 64, 67, 0.15);\n",
              "      fill: #174EA6;\n",
              "    }\n",
              "\n",
              "    [theme=dark] .colab-df-convert {\n",
              "      background-color: #3B4455;\n",
              "      fill: #D2E3FC;\n",
              "    }\n",
              "\n",
              "    [theme=dark] .colab-df-convert:hover {\n",
              "      background-color: #434B5C;\n",
              "      box-shadow: 0px 1px 3px 1px rgba(0, 0, 0, 0.15);\n",
              "      filter: drop-shadow(0px 1px 2px rgba(0, 0, 0, 0.3));\n",
              "      fill: #FFFFFF;\n",
              "    }\n",
              "  </style>\n",
              "\n",
              "      <script>\n",
              "        const buttonEl =\n",
              "          document.querySelector('#df-d211193e-a683-4033-9eaf-5245194cd872 button.colab-df-convert');\n",
              "        buttonEl.style.display =\n",
              "          google.colab.kernel.accessAllowed ? 'block' : 'none';\n",
              "\n",
              "        async function convertToInteractive(key) {\n",
              "          const element = document.querySelector('#df-d211193e-a683-4033-9eaf-5245194cd872');\n",
              "          const dataTable =\n",
              "            await google.colab.kernel.invokeFunction('convertToInteractive',\n",
              "                                                     [key], {});\n",
              "          if (!dataTable) return;\n",
              "\n",
              "          const docLinkHtml = 'Like what you see? Visit the ' +\n",
              "            '<a target=\"_blank\" href=https://colab.research.google.com/notebooks/data_table.ipynb>data table notebook</a>'\n",
              "            + ' to learn more about interactive tables.';\n",
              "          element.innerHTML = '';\n",
              "          dataTable['output_type'] = 'display_data';\n",
              "          await google.colab.output.renderOutput(dataTable, element);\n",
              "          const docLink = document.createElement('div');\n",
              "          docLink.innerHTML = docLinkHtml;\n",
              "          element.appendChild(docLink);\n",
              "        }\n",
              "      </script>\n",
              "    </div>\n",
              "  </div>\n",
              "  "
            ]
          },
          "metadata": {},
          "execution_count": 24
        }
      ]
    },
    {
      "cell_type": "markdown",
      "source": [
        "Importo la libreria para hacer los graficos.\n",
        "1) el primer gráfico me deja ver la dispersión entre los años de creacion y los precios\n",
        "2) el segundo gráfico me deja ver dentro de los años de creacion de cada cuadro la frecuencia en la que se realizaron (se observa que hay uno cerca a los 1200 y el resto se enceuntran posicionados entre 1800 y 2000)"
      ],
      "metadata": {
        "id": "ViBYrRDmNXEE"
      }
    },
    {
      "cell_type": "code",
      "source": [
        "import matplotlib.pyplot as plt\n",
        "\n",
        "df.plot(kind=\"scatter\",x=\"creation\", y = 'price')\n",
        "plt.show()\n"
      ],
      "metadata": {
        "colab": {
          "base_uri": "https://localhost:8080/",
          "height": 465
        },
        "id": "AuPiHozpHoTB",
        "outputId": "d14f954d-fbf7-4c1e-adca-202019dc3eb6"
      },
      "execution_count": 41,
      "outputs": [
        {
          "output_type": "display_data",
          "data": {
            "text/plain": [
              "<Figure size 640x480 with 1 Axes>"
            ],
            "image/png": "[encoded data removed]"
          },
          "metadata": {}
        }
      ]
    },
    {
      "cell_type": "code",
      "source": [
        "df[\"creation\"].plot(kind = 'hist')"
      ],
      "metadata": {
        "colab": {
          "base_uri": "https://localhost:8080/",
          "height": 447
        },
        "id": "NeHOf7h2Jeca",
        "outputId": "c3f043bb-2de1-41f4-cbde-0f3456095657"
      },
      "execution_count": 42,
      "outputs": [
        {
          "output_type": "execute_result",
          "data": {
            "text/plain": [
              "<Axes: ylabel='Frequency'>"
            ]
          },
          "metadata": {},
          "execution_count": 42
        },
        {
          "output_type": "display_data",
          "data": {
            "text/plain": [
              "<Figure size 640x480 with 1 Axes>"
            ],
            "image/png": "[encoded data removed]"
          },
          "metadata": {}
        }
      ]
    }
  ]
}